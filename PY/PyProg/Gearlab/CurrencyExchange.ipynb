{
 "cells": [
  {
   "cell_type": "code",
   "execution_count": 16,
   "metadata": {},
   "outputs": [],
   "source": [
    "%matplotlib inline\n",
    "\n",
    "import matplotlib.pyplot as plt\n",
    "import numpy as np"
   ]
  },
  {
   "cell_type": "code",
   "execution_count": 17,
   "metadata": {},
   "outputs": [],
   "source": [
    "#炎龍幣換台幣\n",
    "def yenl2twd(yenl):\n",
    "    twd = yenl * 87\n",
    "    print(f'{yenl}炎龍幣合{twd}台幣')"
   ]
  },
  {
   "cell_type": "code",
   "execution_count": 18,
   "metadata": {},
   "outputs": [
    {
     "name": "stdout",
     "output_type": "stream",
     "text": [
      "10炎龍幣合870台幣\n"
     ]
    }
   ],
   "source": [
    "yenl2twd(10)"
   ]
  },
  {
   "cell_type": "code",
   "execution_count": 19,
   "metadata": {},
   "outputs": [],
   "source": [
    "def yenl2twd(yenl, c = 87):\n",
    "    twd = yenl * c\n",
    "    print((f\"{yenl}炎龍幣合{int(twd)}台幣\"))"
   ]
  },
  {
   "cell_type": "code",
   "execution_count": 20,
   "metadata": {},
   "outputs": [
    {
     "name": "stdout",
     "output_type": "stream",
     "text": [
      "10炎龍幣合870台幣\n"
     ]
    }
   ],
   "source": [
    "yenl2twd(10)"
   ]
  },
  {
   "cell_type": "code",
   "execution_count": 21,
   "metadata": {},
   "outputs": [],
   "source": [
    "def yenl2twd(yenl, c = 87):\n",
    "    twd = yenl * c\n",
    "    print((f\"{yenl}炎龍幣合{int(twd)}台幣\"))"
   ]
  },
  {
   "cell_type": "code",
   "execution_count": 22,
   "metadata": {},
   "outputs": [
    {
     "name": "stdout",
     "output_type": "stream",
     "text": [
      "10炎龍幣合94870台幣\n"
     ]
    }
   ],
   "source": [
    "yenl2twd(10, c=9487)"
   ]
  }
 ],
 "metadata": {
  "kernelspec": {
   "display_name": "Python 3",
   "language": "python",
   "name": "python3"
  },
  "language_info": {
   "codemirror_mode": {
    "name": "ipython",
    "version": 3
   },
   "file_extension": ".py",
   "mimetype": "text/x-python",
   "name": "python",
   "nbconvert_exporter": "python",
   "pygments_lexer": "ipython3",
   "version": "3.6.7"
  }
 },
 "nbformat": 4,
 "nbformat_minor": 2
}
