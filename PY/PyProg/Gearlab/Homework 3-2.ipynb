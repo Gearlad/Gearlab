{
 "cells": [
  {
   "cell_type": "code",
   "execution_count": null,
   "metadata": {},
   "outputs": [],
   "source": [
    "#Author: Seth Austin Harding\n",
    "'''\n",
    "This program is designed to manipulate two-dimensional arrays using basic numpy functions.\n",
    "This program is also designed as a practice for docstring.\n",
    "Do you like my fancy docstring? Hehehe...\n",
    "rand is for randomly swapping all array indeces\n",
    "swaprow is for swapping separate array rows\n",
    "swapcol is for swapping array columns\n",
    "'''\n",
    "import numpy as np\n",
    "import pandas as pd\n",
    "\n",
    "def swaprow():\n",
    "    row1 = input(\"Enter row 1: \")\n",
    "    row2 = input(\"Enter row 2: \")\n",
    "    A[[row1, row2]] = A[[row2, row1]]\n"
   ]
  },
  {
   "cell_type": "code",
   "execution_count": null,
   "metadata": {},
   "outputs": [],
   "source": [
    "rows = input(\"Enter number of rows: \")\n",
    "cols = input(\"Enter number of columns: \")\n",
    "randlow = input(\"Enter low bounds of random numbers: \")\n",
    "randup = input(\"Enter upper bounds of random numbers: \")"
   ]
  },
  {
   "cell_type": "code",
   "execution_count": null,
   "metadata": {},
   "outputs": [],
   "source": [
    "#checks input is in integer format\n",
    "try:\n",
    "    rows = int(rows)\n",
    "    cols = int(cols)\n",
    "    randlow = int(randlow)\n",
    "    randup = int(randup)    \n",
    "except(ValueError):\n",
    "    print(\"Error: input must be integers\")\n",
    "    exit()"
   ]
  },
  {
   "cell_type": "code",
   "execution_count": null,
   "metadata": {
    "scrolled": false
   },
   "outputs": [],
   "source": [
    "A = np.array(np.random.randint(randlow, randup, (rows)*(cols)))\n",
    "A = A.reshape(rows, cols)\n",
    "print(A, \"\\n\")\n",
    "print(list(A), \"\\n\")\n",
    "print(tuple(A), \"\\n\")\n",
    "A = tuple(A)\n",
    "selection = input(\"Enter 'rand', 'swaprow', or 'swapcol': \")"
   ]
  },
  {
   "cell_type": "code",
   "execution_count": null,
   "metadata": {
    "scrolled": true
   },
   "outputs": [],
   "source": [
    "while(True):\n",
    "    print(A, \"\\n\")\n",
    "    if selection == 'rand':\n",
    "        print(\"rand\")\n",
    "    elif selection == 'swaprow':\n",
    "        row1 = input(\"Enter row 1: \")\n",
    "        row2 = input(\"Enter row 2: \")\n",
    "        A[[row1, row2]] = A[[row2, row1]]\n",
    "    elif selection == 'swapcol':\n",
    "        swapcol()\n",
    "    else:\n",
    "        print(\"Invalid input\")\n",
    "    "
   ]
  },
  {
   "cell_type": "code",
   "execution_count": null,
   "metadata": {},
   "outputs": [],
   "source": []
  },
  {
   "cell_type": "code",
   "execution_count": null,
   "metadata": {},
   "outputs": [],
   "source": []
  }
 ],
 "metadata": {
  "kernelspec": {
   "display_name": "Python 3",
   "language": "python",
   "name": "python3"
  },
  "language_info": {
   "codemirror_mode": {
    "name": "ipython",
    "version": 3
   },
   "file_extension": ".py",
   "mimetype": "text/x-python",
   "name": "python",
   "nbconvert_exporter": "python",
   "pygments_lexer": "ipython3",
   "version": "3.6.7"
  }
 },
 "nbformat": 4,
 "nbformat_minor": 2
}
