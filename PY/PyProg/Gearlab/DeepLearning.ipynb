{
 "cells": [
  {
   "cell_type": "code",
   "execution_count": 12,
   "metadata": {
    "scrolled": true
   },
   "outputs": [
    {
     "name": "stdout",
     "output_type": "stream",
     "text": [
      "Keras version:  2.2.4\n"
     ]
    }
   ],
   "source": [
    "import keras\n",
    "import matplotlib.pyplot as plt\n",
    "import numpy as np\n",
    "import tensorflow as tf\n",
    "%matplotlib inline\n",
    "\n",
    "print('Keras version: ', keras.__version__) #list version"
   ]
  },
  {
   "cell_type": "code",
   "execution_count": 13,
   "metadata": {
    "scrolled": true
   },
   "outputs": [],
   "source": [
    "from keras.datasets import mnist\n",
    "(x_train, y_train), (x_test, y_test) = mnist.load_data()"
   ]
  },
  {
   "cell_type": "code",
   "execution_count": 14,
   "metadata": {},
   "outputs": [
    {
     "data": {
      "text/plain": [
       "((60000, 28, 28), (60000,), (10000, 28, 28), (10000,))"
      ]
     },
     "execution_count": 14,
     "metadata": {},
     "output_type": "execute_result"
    }
   ],
   "source": [
    "x_train.shape, y_train.shape, x_test.shape, y_test.shape"
   ]
  },
  {
   "cell_type": "code",
   "execution_count": 15,
   "metadata": {
    "scrolled": true
   },
   "outputs": [
    {
     "data": {
      "text/plain": [
       "((60000, 784), (10000, 784))"
      ]
     },
     "execution_count": 15,
     "metadata": {},
     "output_type": "execute_result"
    }
   ],
   "source": [
    "x_train = x_train.reshape(-1, 784)\n",
    "x_test = x_test.reshape(-1, 784)\n",
    "x_train.shape, x_test.shape"
   ]
  },
  {
   "cell_type": "code",
   "execution_count": 16,
   "metadata": {},
   "outputs": [],
   "source": [
    "x_train = x_train / 255.0\n",
    "x_test = x_test / 255.0"
   ]
  },
  {
   "cell_type": "code",
   "execution_count": 17,
   "metadata": {},
   "outputs": [],
   "source": [
    "from keras.utils import to_categorical\n",
    "y_train = to_categorical(y_train, num_classes=10)\n",
    "y_test = to_categorical(y_test, num_classes=10)"
   ]
  },
  {
   "cell_type": "code",
   "execution_count": 18,
   "metadata": {
    "scrolled": true
   },
   "outputs": [
    {
     "name": "stdout",
     "output_type": "stream",
     "text": [
      "Model: \"model_1\"\n",
      "_________________________________________________________________\n",
      "Layer (type)                 Output Shape              Param #   \n",
      "=================================================================\n",
      "input_2 (InputLayer)         [(None, 784)]             0         \n",
      "_________________________________________________________________\n",
      "dense_2 (Dense)              (None, 32)                25120     \n",
      "_________________________________________________________________\n",
      "dense_3 (Dense)              (None, 10)                330       \n",
      "=================================================================\n",
      "Total params: 25,450\n",
      "Trainable params: 25,450\n",
      "Non-trainable params: 0\n",
      "_________________________________________________________________\n",
      "Train on 48000 samples, validate on 12000 samples\n",
      "Epoch 1/20\n",
      "48000/48000 [==============================] - 1s 25us/sample - loss: 2.2765 - accuracy: 0.1153 - val_loss: 2.2414 - val_accuracy: 0.1242\n",
      "Epoch 2/20\n",
      "48000/48000 [==============================] - 1s 18us/sample - loss: 2.2092 - accuracy: 0.1468 - val_loss: 2.1757 - val_accuracy: 0.1760\n",
      "Epoch 3/20\n",
      "48000/48000 [==============================] - 1s 19us/sample - loss: 2.1472 - accuracy: 0.2098 - val_loss: 2.1128 - val_accuracy: 0.2531\n",
      "Epoch 4/20\n",
      "48000/48000 [==============================] - 1s 21us/sample - loss: 2.0861 - accuracy: 0.2984 - val_loss: 2.0495 - val_accuracy: 0.3459\n",
      "Epoch 5/20\n",
      "48000/48000 [==============================] - 1s 17us/sample - loss: 2.0228 - accuracy: 0.3812 - val_loss: 1.9827 - val_accuracy: 0.4311\n",
      "Epoch 6/20\n",
      "48000/48000 [==============================] - 1s 14us/sample - loss: 1.9543 - accuracy: 0.4580 - val_loss: 1.9089 - val_accuracy: 0.5104\n",
      "Epoch 7/20\n",
      "48000/48000 [==============================] - 1s 15us/sample - loss: 1.8757 - accuracy: 0.5315 - val_loss: 1.8217 - val_accuracy: 0.5872\n",
      "Epoch 8/20\n",
      "48000/48000 [==============================] - 1s 14us/sample - loss: 1.7804 - accuracy: 0.6066 - val_loss: 1.7145 - val_accuracy: 0.6617\n",
      "Epoch 9/20\n",
      "48000/48000 [==============================] - 1s 16us/sample - loss: 1.6634 - accuracy: 0.6668 - val_loss: 1.5847 - val_accuracy: 0.7109\n",
      "Epoch 10/20\n",
      "48000/48000 [==============================] - 1s 19us/sample - loss: 1.5282 - accuracy: 0.7057 - val_loss: 1.4412 - val_accuracy: 0.7388\n",
      "Epoch 11/20\n",
      "48000/48000 [==============================] - 1s 19us/sample - loss: 1.3881 - accuracy: 0.7297 - val_loss: 1.2998 - val_accuracy: 0.7632\n",
      "Epoch 12/20\n",
      "48000/48000 [==============================] - 1s 16us/sample - loss: 1.2566 - accuracy: 0.7519 - val_loss: 1.1720 - val_accuracy: 0.7841\n",
      "Epoch 13/20\n",
      "48000/48000 [==============================] - 1s 17us/sample - loss: 1.1414 - accuracy: 0.7720 - val_loss: 1.0625 - val_accuracy: 0.8023\n",
      "Epoch 14/20\n",
      "48000/48000 [==============================] - 1s 15us/sample - loss: 1.0438 - accuracy: 0.7889 - val_loss: 0.9711 - val_accuracy: 0.8141\n",
      "Epoch 15/20\n",
      "48000/48000 [==============================] - 1s 14us/sample - loss: 0.9624 - accuracy: 0.8015 - val_loss: 0.8953 - val_accuracy: 0.8239\n",
      "Epoch 16/20\n",
      "48000/48000 [==============================] - 1s 14us/sample - loss: 0.8947 - accuracy: 0.8124 - val_loss: 0.8323 - val_accuracy: 0.8313\n",
      "Epoch 17/20\n",
      "48000/48000 [==============================] - 1s 17us/sample - loss: 0.8380 - accuracy: 0.8207 - val_loss: 0.7795 - val_accuracy: 0.8405\n",
      "Epoch 18/20\n",
      "48000/48000 [==============================] - 1s 19us/sample - loss: 0.7902 - accuracy: 0.8283 - val_loss: 0.7350 - val_accuracy: 0.8460\n",
      "Epoch 19/20\n",
      "48000/48000 [==============================] - 1s 17us/sample - loss: 0.7497 - accuracy: 0.8344 - val_loss: 0.6971 - val_accuracy: 0.8522\n",
      "Epoch 20/20\n",
      "48000/48000 [==============================] - 1s 20us/sample - loss: 0.7148 - accuracy: 0.8399 - val_loss: 0.6646 - val_accuracy: 0.8565\n"
     ]
    },
    {
     "data": {
      "text/plain": [
       "<tensorflow.python.keras.callbacks.History at 0xb2f793e48>"
      ]
     },
     "execution_count": 18,
     "metadata": {},
     "output_type": "execute_result"
    }
   ],
   "source": [
    "from tensorflow.keras.layers import Input, Dense, Activation\n",
    "from tensorflow.keras.models import Model, Sequential\n",
    "\n",
    "img_input = Input(shape=(784,))\n",
    "x = Dense(units=32, activation=\"relu\")(img_input)\n",
    "x = Dense(units=10, activation=\"sigmoid\")(x)\n",
    "\n",
    "model = Model(inputs=img_input, outputs=x)\n",
    "model.summary() #sample model, switching to other model\n",
    "\n",
    "model.compile(optimizer=\"sgd\", loss=\"categorical_crossentropy\", metrics=[\"accuracy\"])\n",
    "model.fit(x_train, y_train, batch_size=120, epochs=20, validation_split=0.2)"
   ]
  },
  {
   "cell_type": "code",
   "execution_count": 19,
   "metadata": {},
   "outputs": [
    {
     "name": "stdout",
     "output_type": "stream",
     "text": [
      "Train on 48000 samples, validate on 12000 samples\n",
      "Epoch 1/20\n",
      "48000/48000 [==============================] - 2s 33us/sample - loss: 0.7220 - accuracy: 0.7755 - val_loss: 0.2676 - val_accuracy: 0.9248\n",
      "Epoch 2/20\n",
      "48000/48000 [==============================] - 1s 23us/sample - loss: 0.2035 - accuracy: 0.9443 - val_loss: 0.1789 - val_accuracy: 0.9507\n",
      "Epoch 3/20\n",
      "48000/48000 [==============================] - 1s 30us/sample - loss: 0.1349 - accuracy: 0.9619 - val_loss: 0.1596 - val_accuracy: 0.9559\n",
      "Epoch 4/20\n",
      "48000/48000 [==============================] - 1s 27us/sample - loss: 0.1005 - accuracy: 0.9716 - val_loss: 0.1377 - val_accuracy: 0.9617\n",
      "Epoch 5/20\n",
      "48000/48000 [==============================] - 1s 22us/sample - loss: 0.0781 - accuracy: 0.9774 - val_loss: 0.1261 - val_accuracy: 0.9651\n",
      "Epoch 6/20\n",
      "48000/48000 [==============================] - 1s 24us/sample - loss: 0.0600 - accuracy: 0.9820 - val_loss: 0.1276 - val_accuracy: 0.9654\n",
      "Epoch 7/20\n",
      "48000/48000 [==============================] - 1s 20us/sample - loss: 0.0499 - accuracy: 0.9860 - val_loss: 0.1392 - val_accuracy: 0.9649\n",
      "Epoch 8/20\n",
      "48000/48000 [==============================] - 1s 20us/sample - loss: 0.0417 - accuracy: 0.9875 - val_loss: 0.1319 - val_accuracy: 0.9675\n",
      "Epoch 9/20\n",
      "48000/48000 [==============================] - 1s 20us/sample - loss: 0.0375 - accuracy: 0.9889 - val_loss: 0.1303 - val_accuracy: 0.9695\n",
      "Epoch 10/20\n",
      "48000/48000 [==============================] - 1s 20us/sample - loss: 0.0317 - accuracy: 0.9900 - val_loss: 0.1374 - val_accuracy: 0.9670\n",
      "Epoch 11/20\n",
      "48000/48000 [==============================] - 1s 20us/sample - loss: 0.0284 - accuracy: 0.9910 - val_loss: 0.1520 - val_accuracy: 0.9639\n",
      "Epoch 12/20\n",
      "48000/48000 [==============================] - 1s 20us/sample - loss: 0.0236 - accuracy: 0.9927 - val_loss: 0.1460 - val_accuracy: 0.9682\n",
      "Epoch 13/20\n",
      "48000/48000 [==============================] - 1s 21us/sample - loss: 0.0228 - accuracy: 0.9927 - val_loss: 0.1397 - val_accuracy: 0.9697\n",
      "Epoch 14/20\n",
      "48000/48000 [==============================] - 1s 20us/sample - loss: 0.0202 - accuracy: 0.9937 - val_loss: 0.1521 - val_accuracy: 0.9674\n",
      "Epoch 15/20\n",
      "48000/48000 [==============================] - 1s 20us/sample - loss: 0.0182 - accuracy: 0.9939 - val_loss: 0.1573 - val_accuracy: 0.9668\n",
      "Epoch 16/20\n",
      "48000/48000 [==============================] - 1s 20us/sample - loss: 0.0227 - accuracy: 0.9925 - val_loss: 0.1645 - val_accuracy: 0.9663\n",
      "Epoch 17/20\n",
      "48000/48000 [==============================] - 1s 20us/sample - loss: 0.0159 - accuracy: 0.9951 - val_loss: 0.1576 - val_accuracy: 0.9688\n",
      "Epoch 18/20\n",
      "48000/48000 [==============================] - 1s 27us/sample - loss: 0.0192 - accuracy: 0.9940 - val_loss: 0.1654 - val_accuracy: 0.9679\n",
      "Epoch 19/20\n",
      "48000/48000 [==============================] - 1s 22us/sample - loss: 0.0123 - accuracy: 0.9963 - val_loss: 0.1575 - val_accuracy: 0.9701\n",
      "Epoch 20/20\n",
      "48000/48000 [==============================] - 1s 23us/sample - loss: 0.0133 - accuracy: 0.9954 - val_loss: 0.1657 - val_accuracy: 0.9687\n",
      "Model: \"model_1\"\n",
      "_________________________________________________________________\n",
      "Layer (type)                 Output Shape              Param #   \n",
      "=================================================================\n",
      "input_2 (InputLayer)         [(None, 784)]             0         \n",
      "_________________________________________________________________\n",
      "dense_2 (Dense)              (None, 32)                25120     \n",
      "_________________________________________________________________\n",
      "dense_3 (Dense)              (None, 10)                330       \n",
      "=================================================================\n",
      "Total params: 25,450\n",
      "Trainable params: 25,450\n",
      "Non-trainable params: 0\n",
      "_________________________________________________________________\n"
     ]
    }
   ],
   "source": [
    "'''test 2, using adam optimizer'''\n",
    "model2 = Sequential([\n",
    "    Dense(128, input_shape=(784,)),\n",
    "    Activation('relu'),\n",
    "    Dense(10),\n",
    "    Activation('softmax'),\n",
    "])\n",
    "model2.add(Dense(128, activation=tf.nn.relu))\n",
    "model2.add(Dense(128, activation=tf.nn.relu))\n",
    "model2.add(Dense(10, activation=tf.nn.softmax))\n",
    "model2.compile(optimizer=\"adam\", loss=\"categorical_crossentropy\", metrics=[\"accuracy\"])\n",
    "model2.fit(x_train, y_train, batch_size=120, epochs=20, validation_split=0.2)\n",
    "\n",
    "\n",
    "model.summary()"
   ]
  },
  {
   "cell_type": "code",
   "execution_count": 20,
   "metadata": {},
   "outputs": [],
   "source": [
    "preds = model.predict(x_test, batch_size=128)\n",
    "preds2 = model2.predict(x_test, batch_size=128) #this part from youtube video..."
   ]
  },
  {
   "cell_type": "code",
   "execution_count": 21,
   "metadata": {},
   "outputs": [],
   "source": [
    "preds = preds.argmax(axis=1)\n",
    "preds2 = preds2.argmax(axis=1)"
   ]
  },
  {
   "cell_type": "code",
   "execution_count": 22,
   "metadata": {},
   "outputs": [],
   "source": [
    "y_test = y_test.argmax(axis=1)"
   ]
  },
  {
   "cell_type": "code",
   "execution_count": 23,
   "metadata": {
    "scrolled": true
   },
   "outputs": [
    {
     "name": "stdout",
     "output_type": "stream",
     "text": [
      "Classification report for model 1!\n",
      "\n",
      "              precision    recall  f1-score   support\n",
      "\n",
      "           0       0.90      0.96      0.93       980\n",
      "           1       0.90      0.96      0.93      1135\n",
      "           2       0.87      0.80      0.84      1032\n",
      "           3       0.80      0.86      0.83      1010\n",
      "           4       0.85      0.86      0.85       982\n",
      "           5       0.85      0.66      0.74       892\n",
      "           6       0.87      0.90      0.89       958\n",
      "           7       0.90      0.87      0.89      1028\n",
      "           8       0.77      0.81      0.79       974\n",
      "           9       0.80      0.82      0.81      1009\n",
      "\n",
      "   micro avg       0.85      0.85      0.85     10000\n",
      "   macro avg       0.85      0.85      0.85     10000\n",
      "weighted avg       0.85      0.85      0.85     10000\n",
      "\n",
      "\n",
      "\n",
      "Classification report for model 2!\n",
      "\n",
      "              precision    recall  f1-score   support\n",
      "\n",
      "           0       0.96      0.98      0.97       980\n",
      "           1       0.99      0.99      0.99      1135\n",
      "           2       0.97      0.98      0.98      1032\n",
      "           3       0.96      0.98      0.97      1010\n",
      "           4       0.98      0.96      0.97       982\n",
      "           5       0.96      0.96      0.96       892\n",
      "           6       0.96      0.98      0.97       958\n",
      "           7       0.98      0.95      0.97      1028\n",
      "           8       0.96      0.95      0.96       974\n",
      "           9       0.95      0.95      0.95      1009\n",
      "\n",
      "   micro avg       0.97      0.97      0.97     10000\n",
      "   macro avg       0.97      0.97      0.97     10000\n",
      "weighted avg       0.97      0.97      0.97     10000\n",
      "\n"
     ]
    }
   ],
   "source": [
    "from sklearn.metrics import classification_report\n",
    "print('Classification report for model 1!\\n')\n",
    "print(classification_report(y_test, preds))\n",
    "print('\\n\\nClassification report for model 2!\\n')\n",
    "print(classification_report(y_test, preds2))"
   ]
  },
  {
   "cell_type": "code",
   "execution_count": null,
   "metadata": {},
   "outputs": [],
   "source": []
  }
 ],
 "metadata": {
  "kernelspec": {
   "display_name": "Python 3",
   "language": "python",
   "name": "python3"
  },
  "language_info": {
   "codemirror_mode": {
    "name": "ipython",
    "version": 3
   },
   "file_extension": ".py",
   "mimetype": "text/x-python",
   "name": "python",
   "nbconvert_exporter": "python",
   "pygments_lexer": "ipython3",
   "version": "3.6.8"
  }
 },
 "nbformat": 4,
 "nbformat_minor": 2
}
