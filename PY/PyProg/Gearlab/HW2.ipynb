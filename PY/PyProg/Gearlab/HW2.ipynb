{
 "cells": [
  {
   "cell_type": "code",
   "execution_count": 119,
   "metadata": {},
   "outputs": [
    {
     "data": {
      "application/vnd.jupyter.widget-view+json": {
       "model_id": "fb1b0c94ea6a4a779761fed5c4227bc2",
       "version_major": 2,
       "version_minor": 0
      },
      "text/plain": [
       "interactive(children=(FloatSlider(value=1.0, description='m', max=10.0, min=-10.0), FloatSlider(value=0.0, des…"
      ]
     },
     "metadata": {},
     "output_type": "display_data"
    },
    {
     "data": {
      "text/plain": [
       "<function __main__.grapher(m, b, power=1.0, xLab='a', yLab='a')>"
      ]
     },
     "execution_count": 119,
     "metadata": {},
     "output_type": "execute_result"
    }
   ],
   "source": [
    "import ipywidgets as wg\n",
    "import numpy as np\n",
    "%matplotlib inline\n",
    "import matplotlib.pyplot as plt\n",
    "\n",
    "def grapher(m, b, power = 1.0, xLab = 'a', yLab = 'a'):\n",
    "    fig, ax = plt.subplots()\n",
    "    x = np.linspace(-10, 10, 20)\n",
    "    y = m * pow(x, power) + b\n",
    "    ax.plot(x, y, 'r--')\n",
    "    ax.set_aspect('equal')\n",
    "    ax.grid(True, which = 'both')\n",
    "    plt.xlabel(xLab)\n",
    "    plt.ylabel(yLab)\n",
    "    plt.xlim([-10, 10])\n",
    "    plt.ylim([-10, 10])\n",
    "    ax.axvline(x = 0, color = 'k')\n",
    "    ax.axhline(y = 0, color = 'k')\n",
    "    \n",
    "m_slide = wg.FloatSlider(value = 1.0, min = -10, max = 10, step = .1)\n",
    "b_slide = wg.FloatSlider(value = 0.0, min = -10, max = 10, step = .5)\n",
    "power_slide = wg.FloatSlider(value = 0.0, min = -5, max = 5, step = 1)\n",
    "\n",
    "wg.interact(grapher, m = m_slide, b = b_slide, power = power_slide, xLab = 'x', yLab = 'y')\n",
    "    "
   ]
  }
 ],
 "metadata": {
  "kernelspec": {
   "display_name": "Python 3",
   "language": "python",
   "name": "python3"
  },
  "language_info": {
   "codemirror_mode": {
    "name": "ipython",
    "version": 3
   },
   "file_extension": ".py",
   "mimetype": "text/x-python",
   "name": "python",
   "nbconvert_exporter": "python",
   "pygments_lexer": "ipython3",
   "version": "3.6.7"
  }
 },
 "nbformat": 4,
 "nbformat_minor": 2
}
