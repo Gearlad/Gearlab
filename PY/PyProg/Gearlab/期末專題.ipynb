{
 "cells": [
  {
   "cell_type": "code",
   "execution_count": null,
   "metadata": {},
   "outputs": [],
   "source": [
    "#password hacker from deep learning"
   ]
  },
  {
   "cell_type": "markdown",
   "metadata": {},
   "source": [
    "# 期末專題：密碼駭客1.0"
   ]
  },
  {
   "cell_type": "markdown",
   "metadata": {},
   "source": [
    "#### 我的想法是，給定某個帳號的資料，利用神經網路來判斷密碼的安全性\n",
    "\n",
    "#### The concept of this project is, provided user's personal information, defining how safe a password is. The provided user information may be as follows:\n",
    "    Full name\n",
    "    Account name\n",
    "    Date of birth\n",
    "    Website name\n",
    "    Leetspeak (i.e., password -> p455w0rd)\n",
    "\n",
    "It is possible that certain website passwords could have different patterns depending on the types of groups the website users comprise. \n",
    "#### 假設我的程式能大概地猜出你的密碼，那就表示你的密碼可能不夠安全，所以對於用戶有幫助（白帽駭客）。判斷用戶的名字（或者帳號）、生日等這些資料跟他們設定密碼有沒有互相關聯。\n",
    "\n",
    "Example code"
   ]
  },
  {
   "cell_type": "code",
   "execution_count": null,
   "metadata": {},
   "outputs": [],
   "source": [
    "class Account:\n",
    "    def __init__(self, account, name, dob, pob):\n",
    "        self.account = account\n",
    "        self.name = name\n",
    "        self.dob = dob\n",
    "        self.pob = pob"
   ]
  },
  {
   "cell_type": "code",
   "execution_count": null,
   "metadata": {
    "scrolled": true
   },
   "outputs": [],
   "source": [
    "acc = input(\"Account: \")\n",
    "name = input(\"Name: \")\n",
    "dob = input(\"DOB: \")\n",
    "pob = input(\"Enter place of birth: \")"
   ]
  },
  {
   "cell_type": "code",
   "execution_count": null,
   "metadata": {},
   "outputs": [],
   "source": [
    "user = Account(acc, name, dob, pob)"
   ]
  },
  {
   "cell_type": "markdown",
   "metadata": {},
   "source": [
    "#### 我最近在研究幾個深度學習相關的密碼程式碼，例如PassGAN."
   ]
  },
  {
   "cell_type": "code",
   "execution_count": null,
   "metadata": {},
   "outputs": [],
   "source": []
  },
  {
   "cell_type": "code",
   "execution_count": null,
   "metadata": {},
   "outputs": [],
   "source": []
  },
  {
   "cell_type": "code",
   "execution_count": null,
   "metadata": {},
   "outputs": [],
   "source": []
  },
  {
   "cell_type": "code",
   "execution_count": null,
   "metadata": {},
   "outputs": [],
   "source": []
  }
 ],
 "metadata": {
  "kernelspec": {
   "display_name": "Python 3",
   "language": "python",
   "name": "python3"
  },
  "language_info": {
   "codemirror_mode": {
    "name": "ipython",
    "version": 3
   },
   "file_extension": ".py",
   "mimetype": "text/x-python",
   "name": "python",
   "nbconvert_exporter": "python",
   "pygments_lexer": "ipython3",
   "version": "3.6.8"
  }
 },
 "nbformat": 4,
 "nbformat_minor": 2
}
