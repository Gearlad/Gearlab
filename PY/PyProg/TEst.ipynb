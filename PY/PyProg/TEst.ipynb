{
 "cells": [
  {
   "cell_type": "code",
   "execution_count": 4,
   "metadata": {
    "scrolled": true
   },
   "outputs": [
    {
     "data": {
      "text/plain": [
       "array([[9, 9, 3],\n",
       "       [5, 7, 0],\n",
       "       [4, 3, 1],\n",
       "       [8, 2, 4]])"
      ]
     },
     "execution_count": 4,
     "metadata": {},
     "output_type": "execute_result"
    }
   ],
   "source": [
    "import numpy as np\n",
    "\n",
    "a = np.array([[4,3,1], [5,7,0], [9,9,3], [8,2,4]])\n",
    "\n",
    "a \n",
    "# array([[4, 3, 1],\n",
    "#        [5, 7, 0],\n",
    "#        [9, 9, 3],\n",
    "#        [8, 2, 4]])\n",
    "\n",
    "a[[0, 2]] = a[[2, 0]]\n",
    "a\n",
    "# array([[9, 9, 3],\n",
    "#       [5, 7, 0],\n",
    "#       [4, 3, 1],\n",
    "#       [8, 2, 4]])"
   ]
  },
  {
   "cell_type": "code",
   "execution_count": null,
   "metadata": {},
   "outputs": [],
   "source": []
  }
 ],
 "metadata": {
  "kernelspec": {
   "display_name": "Python 3",
   "language": "python",
   "name": "python3"
  },
  "language_info": {
   "codemirror_mode": {
    "name": "ipython",
    "version": 3
   },
   "file_extension": ".py",
   "mimetype": "text/x-python",
   "name": "python",
   "nbconvert_exporter": "python",
   "pygments_lexer": "ipython3",
   "version": "3.6.7"
  }
 },
 "nbformat": 4,
 "nbformat_minor": 2
}
