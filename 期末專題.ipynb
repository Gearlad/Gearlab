{
 "cells": [
  {
   "cell_type": "code",
   "execution_count": null,
   "metadata": {},
   "outputs": [],
   "source": [
    "#password hacker from deep learning"
   ]
  },
  {
   "cell_type": "markdown",
   "metadata": {},
   "source": [
    "# 期末專題：密碼駭客1.0"
   ]
  },
  {
   "cell_type": "markdown",
   "metadata": {},
   "source": [
    "#### 我的想法是，給定某個帳號的資料，人利用神經網路來判斷密碼的安全性\n",
    "#### 假設我的程式能大概地猜出你的密碼，那就表示你的密碼可能不夠安全，所以對於用戶有幫助（白帽駭客）。判斷用戶的名字（或者帳號）、生日等這些資料跟他們設定密碼有沒有互相關聯。"
   ]
  },
  {
   "cell_type": "code",
   "execution_count": null,
   "metadata": {},
   "outputs": [],
   "source": [
    "class Account:\n",
    "    def __init__(self, account, name, dob, pob):\n",
    "        self.account = account\n",
    "        self.name = name\n",
    "        self.dob = dob\n",
    "        self.pob = pob"
   ]
  },
  {
   "cell_type": "code",
   "execution_count": null,
   "metadata": {
    "scrolled": true
   },
   "outputs": [],
   "source": [
    "acc = input(\"Account: \")\n",
    "name = input(\"Name: \")\n",
    "dob = input(\"DOB: \")\n",
    "pob = input(\"Enter place of birth: \")"
   ]
  },
  {
   "cell_type": "code",
   "execution_count": null,
   "metadata": {},
   "outputs": [],
   "source": [
    "user = Account(acc, name, dob, pob)"
   ]
  }
 ],
 "metadata": {
  "kernelspec": {
   "display_name": "Python 3",
   "language": "python",
   "name": "python3"
  },
  "language_info": {
   "codemirror_mode": {
    "name": "ipython",
    "version": 3
   },
   "file_extension": ".py",
   "mimetype": "text/x-python",
   "name": "python",
   "nbconvert_exporter": "python",
   "pygments_lexer": "ipython3",
   "version": "3.6.8"
  }
 },
 "nbformat": 4,
 "nbformat_minor": 2
}
