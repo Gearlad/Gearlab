{
 "cells": [
  {
   "cell_type": "code",
   "execution_count": 829,
   "metadata": {
    "scrolled": true
   },
   "outputs": [
    {
     "name": "stdout",
     "output_type": "stream",
     "text": [
      "Keras version:  2.2.4\n"
     ]
    }
   ],
   "source": [
    "import keras\n",
    "import matplotlib.pyplot as plt\n",
    "import numpy as np\n",
    "import tensorflow as tf\n",
    "%matplotlib inline\n",
    "\n",
    "print('Keras version: ', keras.__version__) #list version"
   ]
  },
  {
   "cell_type": "code",
   "execution_count": 830,
   "metadata": {
    "scrolled": true
   },
   "outputs": [],
   "source": [
    "from keras.datasets import mnist\n",
    "(x_train, y_train), (x_test, y_test) = mnist.load_data()"
   ]
  },
  {
   "cell_type": "code",
   "execution_count": 831,
   "metadata": {},
   "outputs": [
    {
     "data": {
      "text/plain": [
       "((60000, 28, 28), (60000,), (10000, 28, 28), (10000,))"
      ]
     },
     "execution_count": 831,
     "metadata": {},
     "output_type": "execute_result"
    }
   ],
   "source": [
    "x_train.shape, y_train.shape, x_test.shape, y_test.shape"
   ]
  },
  {
   "cell_type": "code",
   "execution_count": 832,
   "metadata": {
    "scrolled": true
   },
   "outputs": [
    {
     "data": {
      "text/plain": [
       "((60000, 784), (10000, 784))"
      ]
     },
     "execution_count": 832,
     "metadata": {},
     "output_type": "execute_result"
    }
   ],
   "source": [
    "x_train = x_train.reshape(-1, 784)\n",
    "x_test = x_test.reshape(-1, 784)\n",
    "x_train.shape, x_test.shape"
   ]
  },
  {
   "cell_type": "code",
   "execution_count": 833,
   "metadata": {},
   "outputs": [],
   "source": [
    "x_train = x_train / 255.0\n",
    "x_test = x_test / 255.0"
   ]
  },
  {
   "cell_type": "code",
   "execution_count": 834,
   "metadata": {},
   "outputs": [],
   "source": [
    "from keras.utils import to_categorical\n",
    "y_train = to_categorical(y_train, num_classes=10)\n",
    "y_test = to_categorical(y_test, num_classes=10)"
   ]
  },
  {
   "cell_type": "code",
   "execution_count": 835,
   "metadata": {
    "scrolled": true
   },
   "outputs": [
    {
     "name": "stdout",
     "output_type": "stream",
     "text": [
      "Model: \"model_46\"\n",
      "_________________________________________________________________\n",
      "Layer (type)                 Output Shape              Param #   \n",
      "=================================================================\n",
      "input_50 (InputLayer)        [(None, 784)]             0         \n",
      "_________________________________________________________________\n",
      "dense_124 (Dense)            (None, 32)                25120     \n",
      "_________________________________________________________________\n",
      "dense_125 (Dense)            (None, 10)                330       \n",
      "=================================================================\n",
      "Total params: 25,450\n",
      "Trainable params: 25,450\n",
      "Non-trainable params: 0\n",
      "_________________________________________________________________\n",
      "Train on 48000 samples, validate on 12000 samples\n",
      "Epoch 1/20\n",
      "48000/48000 [==============================] - 1s 25us/sample - loss: 2.3236 - accuracy: 0.0825 - val_loss: 2.2860 - val_accuracy: 0.1098\n",
      "Epoch 2/20\n",
      "48000/48000 [==============================] - 1s 14us/sample - loss: 2.2659 - accuracy: 0.1208 - val_loss: 2.2370 - val_accuracy: 0.1501\n",
      "Epoch 3/20\n",
      "48000/48000 [==============================] - 1s 14us/sample - loss: 2.2210 - accuracy: 0.1633 - val_loss: 2.1932 - val_accuracy: 0.1956\n",
      "Epoch 4/20\n",
      "48000/48000 [==============================] - 1s 16us/sample - loss: 2.1782 - accuracy: 0.2080 - val_loss: 2.1492 - val_accuracy: 0.2475\n",
      "Epoch 5/20\n",
      "48000/48000 [==============================] - 1s 15us/sample - loss: 2.1341 - accuracy: 0.2606 - val_loss: 2.1030 - val_accuracy: 0.3047\n",
      "Epoch 6/20\n",
      "48000/48000 [==============================] - 1s 15us/sample - loss: 2.0874 - accuracy: 0.3210 - val_loss: 2.0538 - val_accuracy: 0.3738\n",
      "Epoch 7/20\n",
      "48000/48000 [==============================] - 1s 14us/sample - loss: 2.0373 - accuracy: 0.3889 - val_loss: 2.0007 - val_accuracy: 0.4431\n",
      "Epoch 8/20\n",
      "48000/48000 [==============================] - 1s 14us/sample - loss: 1.9828 - accuracy: 0.4562 - val_loss: 1.9424 - val_accuracy: 0.5066\n",
      "Epoch 9/20\n",
      "48000/48000 [==============================] - 1s 14us/sample - loss: 1.9221 - accuracy: 0.5096 - val_loss: 1.8763 - val_accuracy: 0.5629\n",
      "Epoch 10/20\n",
      "48000/48000 [==============================] - 1s 15us/sample - loss: 1.8517 - accuracy: 0.5592 - val_loss: 1.7984 - val_accuracy: 0.6082\n",
      "Epoch 11/20\n",
      "48000/48000 [==============================] - 1s 14us/sample - loss: 1.7678 - accuracy: 0.6047 - val_loss: 1.7047 - val_accuracy: 0.6527\n",
      "Epoch 12/20\n",
      "48000/48000 [==============================] - 1s 14us/sample - loss: 1.6674 - accuracy: 0.6475 - val_loss: 1.5939 - val_accuracy: 0.6999\n",
      "Epoch 13/20\n",
      "48000/48000 [==============================] - 1s 15us/sample - loss: 1.5518 - accuracy: 0.6907 - val_loss: 1.4704 - val_accuracy: 0.7410\n",
      "Epoch 14/20\n",
      "48000/48000 [==============================] - 1s 14us/sample - loss: 1.4288 - accuracy: 0.7289 - val_loss: 1.3447 - val_accuracy: 0.7718\n",
      "Epoch 15/20\n",
      "48000/48000 [==============================] - 1s 14us/sample - loss: 1.3089 - accuracy: 0.7557 - val_loss: 1.2267 - val_accuracy: 0.7926\n",
      "Epoch 16/20\n",
      "48000/48000 [==============================] - 1s 16us/sample - loss: 1.1996 - accuracy: 0.7757 - val_loss: 1.1215 - val_accuracy: 0.8088\n",
      "Epoch 17/20\n",
      "48000/48000 [==============================] - 1s 16us/sample - loss: 1.1037 - accuracy: 0.7903 - val_loss: 1.0305 - val_accuracy: 0.8201\n",
      "Epoch 18/20\n",
      "48000/48000 [==============================] - 1s 16us/sample - loss: 1.0210 - accuracy: 0.8035 - val_loss: 0.9522 - val_accuracy: 0.8297\n",
      "Epoch 19/20\n",
      "48000/48000 [==============================] - 1s 15us/sample - loss: 0.9503 - accuracy: 0.8133 - val_loss: 0.8855 - val_accuracy: 0.8378\n",
      "Epoch 20/20\n",
      "48000/48000 [==============================] - 1s 18us/sample - loss: 0.8896 - accuracy: 0.8211 - val_loss: 0.8285 - val_accuracy: 0.8432\n"
     ]
    },
    {
     "data": {
      "text/plain": [
       "<tensorflow.python.keras.callbacks.History at 0xb3d53b780>"
      ]
     },
     "execution_count": 835,
     "metadata": {},
     "output_type": "execute_result"
    }
   ],
   "source": [
    "'''test 1, using sgd optimizer'''\n",
    "from tensorflow.keras.layers import Input, Dense, Activation\n",
    "from tensorflow.keras.models import Model, Sequential\n",
    "\n",
    "img_input = Input(shape=(784,))\n",
    "x = Dense(units=32, activation=\"relu\")(img_input)\n",
    "x = Dense(units=10, activation=\"sigmoid\")(x)\n",
    " \n",
    "model = Model(inputs=img_input, outputs=x)\n",
    "model.summary() #sample model, switching to other model\n",
    "\n",
    "model.compile(optimizer=\"sgd\", loss=\"categorical_crossentropy\", metrics=[\"accuracy\"])\n",
    "model.fit(x_train, y_train, batch_size=120, epochs=20, validation_split=0.2)"
   ]
  },
  {
   "cell_type": "code",
   "execution_count": 836,
   "metadata": {},
   "outputs": [
    {
     "name": "stdout",
     "output_type": "stream",
     "text": [
      "Train on 48000 samples, validate on 12000 samples\n",
      "Epoch 1/20\n",
      "48000/48000 [==============================] - 1s 27us/sample - loss: 0.8373 - accuracy: 0.7200 - val_loss: 0.3456 - val_accuracy: 0.9073\n",
      "Epoch 2/20\n",
      "48000/48000 [==============================] - 1s 23us/sample - loss: 0.2347 - accuracy: 0.9367 - val_loss: 0.1778 - val_accuracy: 0.9525\n",
      "Epoch 3/20\n",
      "48000/48000 [==============================] - 1s 25us/sample - loss: 0.1331 - accuracy: 0.9628 - val_loss: 0.1582 - val_accuracy: 0.9569\n",
      "Epoch 4/20\n",
      "48000/48000 [==============================] - 1s 24us/sample - loss: 0.0937 - accuracy: 0.9728 - val_loss: 0.1426 - val_accuracy: 0.9613\n",
      "Epoch 5/20\n",
      "48000/48000 [==============================] - 1s 22us/sample - loss: 0.0715 - accuracy: 0.9793 - val_loss: 0.1222 - val_accuracy: 0.9680\n",
      "Epoch 6/20\n",
      "48000/48000 [==============================] - 1s 22us/sample - loss: 0.0546 - accuracy: 0.9842 - val_loss: 0.1212 - val_accuracy: 0.9687\n",
      "Epoch 7/20\n",
      "48000/48000 [==============================] - 1s 21us/sample - loss: 0.0446 - accuracy: 0.9865 - val_loss: 0.1306 - val_accuracy: 0.9671\n",
      "Epoch 8/20\n",
      "48000/48000 [==============================] - 1s 22us/sample - loss: 0.0394 - accuracy: 0.9885 - val_loss: 0.1301 - val_accuracy: 0.9693\n",
      "Epoch 9/20\n",
      "48000/48000 [==============================] - 1s 22us/sample - loss: 0.0328 - accuracy: 0.9897 - val_loss: 0.1374 - val_accuracy: 0.9678\n",
      "Epoch 10/20\n",
      "48000/48000 [==============================] - 1s 22us/sample - loss: 0.0263 - accuracy: 0.9920 - val_loss: 0.1477 - val_accuracy: 0.9674\n",
      "Epoch 11/20\n",
      "48000/48000 [==============================] - 1s 22us/sample - loss: 0.0269 - accuracy: 0.9915 - val_loss: 0.1719 - val_accuracy: 0.9653\n",
      "Epoch 12/20\n",
      "48000/48000 [==============================] - 1s 24us/sample - loss: 0.0239 - accuracy: 0.9924 - val_loss: 0.1641 - val_accuracy: 0.9672\n",
      "Epoch 13/20\n",
      "48000/48000 [==============================] - 1s 27us/sample - loss: 0.0190 - accuracy: 0.9937 - val_loss: 0.1804 - val_accuracy: 0.9643\n",
      "Epoch 14/20\n",
      "48000/48000 [==============================] - 1s 23us/sample - loss: 0.0191 - accuracy: 0.9940 - val_loss: 0.1544 - val_accuracy: 0.9682\n",
      "Epoch 15/20\n",
      "48000/48000 [==============================] - 1s 22us/sample - loss: 0.0173 - accuracy: 0.9945 - val_loss: 0.1510 - val_accuracy: 0.9690\n",
      "Epoch 16/20\n",
      "48000/48000 [==============================] - 1s 24us/sample - loss: 0.0185 - accuracy: 0.9940 - val_loss: 0.1577 - val_accuracy: 0.9682\n",
      "Epoch 17/20\n",
      "48000/48000 [==============================] - 1s 23us/sample - loss: 0.0123 - accuracy: 0.9959 - val_loss: 0.1558 - val_accuracy: 0.9701\n",
      "Epoch 18/20\n",
      "48000/48000 [==============================] - 1s 23us/sample - loss: 0.0142 - accuracy: 0.9955 - val_loss: 0.1609 - val_accuracy: 0.9696\n",
      "Epoch 19/20\n",
      "48000/48000 [==============================] - 1s 23us/sample - loss: 0.0128 - accuracy: 0.9957 - val_loss: 0.1656 - val_accuracy: 0.9701\n",
      "Epoch 20/20\n",
      "48000/48000 [==============================] - 1s 23us/sample - loss: 0.0150 - accuracy: 0.9947 - val_loss: 0.1809 - val_accuracy: 0.9672\n",
      "Model: \"model_46\"\n",
      "_________________________________________________________________\n",
      "Layer (type)                 Output Shape              Param #   \n",
      "=================================================================\n",
      "input_50 (InputLayer)        [(None, 784)]             0         \n",
      "_________________________________________________________________\n",
      "dense_124 (Dense)            (None, 32)                25120     \n",
      "_________________________________________________________________\n",
      "dense_125 (Dense)            (None, 10)                330       \n",
      "=================================================================\n",
      "Total params: 25,450\n",
      "Trainable params: 25,450\n",
      "Non-trainable params: 0\n",
      "_________________________________________________________________\n"
     ]
    }
   ],
   "source": [
    "'''test 2, using adam optimizer'''\n",
    "model2 = Sequential([\n",
    "    Dense(128, input_shape=(784,)),\n",
    "    Activation('relu'),\n",
    "    Dense(10),\n",
    "    Activation('softmax'),\n",
    "])\n",
    "model2.add(Dense(128, activation=tf.nn.relu))\n",
    "model2.add(Dense(128, activation=tf.nn.relu))\n",
    "model2.add(Dense(10, activation=tf.nn.softmax))\n",
    "model2.compile(optimizer=\"adam\", loss=\"categorical_crossentropy\", metrics=[\"accuracy\"])\n",
    "model2.fit(x_train, y_train, batch_size=120, epochs=20, validation_split=0.2)\n",
    "\n",
    "\n",
    "model.summary()"
   ]
  },
  {
   "cell_type": "code",
   "execution_count": 837,
   "metadata": {},
   "outputs": [],
   "source": [
    "preds = model.predict(x_test, batch_size=128)\n",
    "preds2 = model2.predict(x_test, batch_size=128) #this part from youtube video..."
   ]
  },
  {
   "cell_type": "code",
   "execution_count": 838,
   "metadata": {},
   "outputs": [],
   "source": [
    "preds = preds.argmax(axis=1)\n",
    "preds2 = preds2.argmax(axis=1)"
   ]
  },
  {
   "cell_type": "code",
   "execution_count": 839,
   "metadata": {},
   "outputs": [],
   "source": [
    "y_test = y_test.argmax(axis=1)"
   ]
  },
  {
   "cell_type": "code",
   "execution_count": 842,
   "metadata": {
    "scrolled": true
   },
   "outputs": [
    {
     "name": "stdout",
     "output_type": "stream",
     "text": [
      "Classification report for model 1!\n",
      "\n",
      "              precision    recall  f1-score   support\n",
      "\n",
      "           0       0.88      0.95      0.92       980\n",
      "           1       0.89      0.97      0.93      1135\n",
      "           2       0.86      0.79      0.83      1032\n",
      "           3       0.78      0.88      0.82      1010\n",
      "           4       0.82      0.86      0.84       982\n",
      "           5       0.84      0.57      0.68       892\n",
      "           6       0.86      0.87      0.86       958\n",
      "           7       0.87      0.87      0.87      1028\n",
      "           8       0.72      0.75      0.74       974\n",
      "           9       0.82      0.80      0.81      1009\n",
      "\n",
      "   micro avg       0.83      0.83      0.83     10000\n",
      "   macro avg       0.83      0.83      0.83     10000\n",
      "weighted avg       0.84      0.83      0.83     10000\n",
      "\n",
      "\n",
      "\n",
      "Classification report for model 2!\n",
      "\n",
      "              precision    recall  f1-score   support\n",
      "\n",
      "           0       0.98      0.98      0.98       980\n",
      "           1       0.99      0.99      0.99      1135\n",
      "           2       0.96      0.97      0.97      1032\n",
      "           3       0.97      0.97      0.97      1010\n",
      "           4       0.94      0.98      0.96       982\n",
      "           5       0.99      0.95      0.97       892\n",
      "           6       0.97      0.97      0.97       958\n",
      "           7       0.96      0.97      0.97      1028\n",
      "           8       0.96      0.97      0.97       974\n",
      "           9       0.97      0.94      0.95      1009\n",
      "\n",
      "   micro avg       0.97      0.97      0.97     10000\n",
      "   macro avg       0.97      0.97      0.97     10000\n",
      "weighted avg       0.97      0.97      0.97     10000\n",
      "\n"
     ]
    }
   ],
   "source": [
    "from sklearn.metrics import classification_report\n",
    "print('Classification report for model 1!\\n')\n",
    "print(classification_report(y_test, preds))\n",
    "print('\\n\\nClassification report for model 2!\\n')\n",
    "print(classification_report(y_test, preds2))"
   ]
  },
  {
   "cell_type": "code",
   "execution_count": null,
   "metadata": {},
   "outputs": [],
   "source": []
  }
 ],
 "metadata": {
  "kernelspec": {
   "display_name": "Python 3",
   "language": "python",
   "name": "python3"
  }
 },
 "nbformat": 4,
 "nbformat_minor": 2
}
