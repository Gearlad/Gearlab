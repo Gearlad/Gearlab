{
 "cells": [
  {
   "cell_type": "markdown",
   "metadata": {},
   "source": [
    "# qorC[ontract] - Smart contracts, simplified"
   ]
  },
  {
   "cell_type": "markdown",
   "metadata": {},
   "source": [
    "##### Smart contracts are essential to all users of Ethereum and other such cryptocurrency platforms.\n",
    "##### Yet a beginner trying to write a smart contract must learn a new programming language.\n",
    "##### This program is designed to simplify the process of writing smart contracts for beginners by auto-constructing a Solidity file based on the user's inputted needs.\n"
   ]
  },
  {
   "cell_type": "markdown",
   "metadata": {},
   "source": [
    "#### Let us begin with contract construction"
   ]
  },
  {
   "cell_type": "code",
   "execution_count": 214,
   "metadata": {},
   "outputs": [
    {
     "data": {
      "text/plain": [
       "0"
      ]
     },
     "execution_count": 214,
     "metadata": {},
     "output_type": "execute_result"
    }
   ],
   "source": [
    "import os # todo: add Windows command\n",
    "os.system(f'open SmartContractExample.txt -a TextEdit') #open text file with text editor"
   ]
  },
  {
   "cell_type": "code",
   "execution_count": 215,
   "metadata": {
    "scrolled": false
   },
   "outputs": [
    {
     "name": "stdout",
     "output_type": "stream",
     "text": [
      "Please enter contract name\n",
      "con\n"
     ]
    }
   ],
   "source": [
    "filename = input('Please enter contract name\\n')\n",
    "#later convert .txt->.sol\n",
    "contractfile = open(filename+'.sol', 'w')"
   ]
  },
  {
   "cell_type": "markdown",
   "metadata": {},
   "source": [
    "### These are presently the most recent versions of Solidity. The default version of Solidity is 0.4.24"
   ]
  },
  {
   "cell_type": "code",
   "execution_count": 216,
   "metadata": {},
   "outputs": [],
   "source": [
    "versionList = ['0.5.7', '0.5.6', '0.5.5', '0.5.4', '0.5.3', '0.5.2', '0.5.1', '0.5.0', '0.4.24']"
   ]
  },
  {
   "cell_type": "code",
   "execution_count": 217,
   "metadata": {},
   "outputs": [],
   "source": [
    "def setVersion(ver='0.4.24'): #default: 0.4.24\n",
    "    return ver"
   ]
  },
  {
   "cell_type": "code",
   "execution_count": 218,
   "metadata": {},
   "outputs": [
    {
     "name": "stdout",
     "output_type": "stream",
     "text": [
      "Enter version to use\n",
      "Options: ['0.5.7', '0.5.6', '0.5.5', '0.5.4', '0.5.3', '0.5.2', '0.5.1', '0.5.0', '0.4.24']\n",
      "0.5.7\n"
     ]
    },
    {
     "data": {
      "text/plain": [
       "'0.5.7'"
      ]
     },
     "execution_count": 218,
     "metadata": {},
     "output_type": "execute_result"
    }
   ],
   "source": [
    "ver = input(f'Enter version to use\\nOptions: {versionList}\\n')\n",
    "setVersion(ver)\n",
    "#better to implement as dropdown menu later"
   ]
  },
  {
   "cell_type": "code",
   "execution_count": 219,
   "metadata": {},
   "outputs": [],
   "source": [
    "if ver not in versionList:\n",
    "    print(\"Error: invalid version\")\n",
    "    exit()"
   ]
  },
  {
   "cell_type": "code",
   "execution_count": 220,
   "metadata": {
    "scrolled": true
   },
   "outputs": [
    {
     "name": "stdout",
     "output_type": "stream",
     "text": [
      "Variable name: a\n",
      "Variable type (integer or string): integer\n",
      "Add another variable? (y/n): y\n",
      "Variable name: n\n",
      "Variable type (integer or string): string\n",
      "Add another variable? (y/n): n\n"
     ]
    },
    {
     "data": {
      "text/plain": [
       "1"
      ]
     },
     "execution_count": 220,
     "metadata": {},
     "output_type": "execute_result"
    }
   ],
   "source": [
    "contractfile.write(f'pragma solidity {ver};\\n')\n",
    "contractfile.write(f'contract {filename} {{\\n')\n",
    "\n",
    "while(True):\n",
    "    varName = input('Variable name: ')\n",
    "    varType = input('Variable type (integer or string): ')\n",
    "    if(varType == 'integer'):\n",
    "        varType = 'uint'\n",
    "    else:\n",
    "        varType = 'string32'\n",
    "    contractfile.write(' '*4 + f'{varType} {varName};\\n')\n",
    "    op = input('Add another variable? (y/n): ')\n",
    "    \n",
    "    if(op == 'n'):\n",
    "        break\n",
    "\n",
    "contractfile.write(f'}}')"
   ]
  },
  {
   "cell_type": "code",
   "execution_count": 221,
   "metadata": {},
   "outputs": [],
   "source": [
    "contractfile.close()"
   ]
  },
  {
   "cell_type": "markdown",
   "metadata": {},
   "source": [
    "### This will open the Solidity file for Mac users on TextEdit."
   ]
  },
  {
   "cell_type": "code",
   "execution_count": 222,
   "metadata": {},
   "outputs": [
    {
     "data": {
      "text/plain": [
       "0"
      ]
     },
     "execution_count": 222,
     "metadata": {},
     "output_type": "execute_result"
    }
   ],
   "source": [
    "os.system(f'open {filename}.sol -a TextEdit')"
   ]
  },
  {
   "cell_type": "markdown",
   "metadata": {},
   "source": [
    "### The user may then decide whether to delete the file."
   ]
  },
  {
   "cell_type": "code",
   "execution_count": 223,
   "metadata": {},
   "outputs": [
    {
     "name": "stdout",
     "output_type": "stream",
     "text": [
      "Keep or remove file? remove\n"
     ]
    }
   ],
   "source": [
    "option = input('Keep or remove file? ')\n",
    "if(option == 'remove'):\n",
    "    os.remove(f'{filename}.sol')"
   ]
  }
 ],
 "metadata": {
  "kernelspec": {
   "display_name": "Python 3",
   "language": "python",
   "name": "python3"
  }
 },
 "nbformat": 4,
 "nbformat_minor": 2
}
